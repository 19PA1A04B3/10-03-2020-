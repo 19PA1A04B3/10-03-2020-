{
  "nbformat": 4,
  "nbformat_minor": 0,
  "metadata": {
    "colab": {
      "name": "Linear Regression byown.ipynb",
      "provenance": [],
      "authorship_tag": "ABX9TyOkK1+FtygGkU5EmIYGd23/",
      "include_colab_link": true
    },
    "kernelspec": {
      "name": "python3",
      "display_name": "Python 3"
    }
  },
  "cells": [
    {
      "cell_type": "markdown",
      "metadata": {
        "id": "view-in-github",
        "colab_type": "text"
      },
      "source": [
        "<a href=\"https://colab.research.google.com/github/19PA1A04B3/10-03-2020-/blob/master/Linear_Regression_byown.ipynb\" target=\"_parent\"><img src=\"https://colab.research.google.com/assets/colab-badge.svg\" alt=\"Open In Colab\"/></a>"
      ]
    },
    {
      "cell_type": "code",
      "metadata": {
        "id": "rHIs8vZ1L3nM",
        "colab_type": "code",
        "colab": {}
      },
      "source": [
        "import numpy as np\n",
        "import pandas as pd"
      ],
      "execution_count": 0,
      "outputs": []
    },
    {
      "cell_type": "code",
      "metadata": {
        "id": "_7-D4D9yKCin",
        "colab_type": "code",
        "colab": {}
      },
      "source": [
        "x=[1,2,3,4,5]\n",
        "y=[3,4,2,4,5]"
      ],
      "execution_count": 0,
      "outputs": []
    },
    {
      "cell_type": "code",
      "metadata": {
        "id": "tGtfYTikLXjX",
        "colab_type": "code",
        "colab": {
          "base_uri": "https://localhost:8080/",
          "height": 34
        },
        "outputId": "a6ae6d5e-6d14-431b-aad6-521bd15cbbb3"
      },
      "source": [
        "mean_x=np.mean(x)\n",
        "mean_y=np.mean(y)\n",
        "n=len(x)\n",
        "num=0\n",
        "den=0\n",
        "for i in range (n):\n",
        "  num+=(x[i]-mean_x)*(y[i]-mean_y)\n",
        "  den+=(x[i]-mean_x)**2\n",
        "b1=num/den\n",
        "b0=mean_y-(b1*mean_x)\n",
        "print(b1,b0)"
      ],
      "execution_count": 20,
      "outputs": [
        {
          "output_type": "stream",
          "text": [
            "0.4 2.4\n"
          ],
          "name": "stdout"
        }
      ]
    },
    {
      "cell_type": "code",
      "metadata": {
        "id": "VBeMH4E3Li5A",
        "colab_type": "code",
        "colab": {
          "base_uri": "https://localhost:8080/",
          "height": 34
        },
        "outputId": "88583390-ca41-4a5e-b87e-cefbba01020d"
      },
      "source": [
        "numer=0\n",
        "denom=0\n",
        "for i in range (n):\n",
        "  y_pred=b0+(b1*x[i])\n",
        "  numer+=(y_pred-mean_y)**2\n",
        "  denom+=(y[i]-mean_y)**2\n",
        "r2=numer/denom\n",
        "print(r2)"
      ],
      "execution_count": 18,
      "outputs": [
        {
          "output_type": "stream",
          "text": [
            "0.3076923076923078\n"
          ],
          "name": "stdout"
        }
      ]
    },
    {
      "cell_type": "code",
      "metadata": {
        "id": "spAg5MmeP-qK",
        "colab_type": "code",
        "colab": {
          "base_uri": "https://localhost:8080/",
          "height": 34
        },
        "outputId": "7cde5157-5b0c-4413-ec52-b22ac6c034b1"
      },
      "source": [
        "numer=0\n",
        "denom=0\n",
        "for i in range (n):\n",
        "  y_pred=b0+(b1*x[i])\n",
        "  numer+=(y[i]-y_pred)**2\n",
        "  denom+=(y[i]-mean_y)**2\n",
        "r2=1-(numer/denom)\n",
        "print(r2)"
      ],
      "execution_count": 21,
      "outputs": [
        {
          "output_type": "stream",
          "text": [
            "0.3076923076923078\n"
          ],
          "name": "stdout"
        }
      ]
    },
    {
      "cell_type": "code",
      "metadata": {
        "id": "81TkoDPiQYRf",
        "colab_type": "code",
        "colab": {}
      },
      "source": [
        ""
      ],
      "execution_count": 0,
      "outputs": []
    }
  ]
}