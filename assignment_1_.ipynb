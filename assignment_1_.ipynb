{
  "nbformat": 4,
  "nbformat_minor": 0,
  "metadata": {
    "colab": {
      "name": "assignment 1 .ipynb",
      "provenance": [],
      "authorship_tag": "ABX9TyMafhP+GqB5chvkojSuVKNs",
      "include_colab_link": true
    },
    "kernelspec": {
      "name": "python3",
      "display_name": "Python 3"
    }
  },
  "cells": [
    {
      "cell_type": "markdown",
      "metadata": {
        "id": "view-in-github",
        "colab_type": "text"
      },
      "source": [
        "<a href=\"https://colab.research.google.com/github/19PA1A04B3/10-03-2020-/blob/master/assignment_1_.ipynb\" target=\"_parent\"><img src=\"https://colab.research.google.com/assets/colab-badge.svg\" alt=\"Open In Colab\"/></a>"
      ]
    },
    {
      "cell_type": "markdown",
      "metadata": {
        "id": "ecqG9-eXq8Q8",
        "colab_type": "text"
      },
      "source": [
        "**MEAN SQUARE ERROR:**\n",
        "  It some what similar to mean absolute error  but in it we find the mean of the data and we subtract each value from mean and square them .It prevent negatives. At last add them all .Finally divide with total number.\n",
        "\n",
        "  MSE=SIGMA(Yi-Y)/n\n",
        "\n",
        " ** MEAN ABSOLUTE ERROR :** \n",
        " It is similar to MSE but in it we will not square instead we will use module because to remove negativity\n",
        "\n",
        " MAE=SIGMA(Yi-Y)/n\n",
        "\n",
        "**R2 ERROR:**\n",
        "     It shows how much variance is your model has found\n",
        "\n",
        "R2=(Varience explained by the model)/total varience"
      ]
    },
    {
      "cell_type": "code",
      "metadata": {
        "id": "yDE6oRYBlWb1",
        "colab_type": "code",
        "colab": {}
      },
      "source": [
        "import numpy as np #for handling arrays\n",
        "import pandas as pd  #for handling tables from the data\n",
        "import matplotlib.pyplot as plt # For handling graphs\n",
        "from sklearn.model_selection import train_test_split # For spliting the data into train and test\n",
        "from sklearn.linear_model import LinearRegression # for using the model\n",
        "from sklearn import metrics\n"
      ],
      "execution_count": 0,
      "outputs": []
    },
    {
      "cell_type": "code",
      "metadata": {
        "id": "s84crFfXmbMP",
        "colab_type": "code",
        "colab": {
          "base_uri": "https://localhost:8080/",
          "height": 456
        },
        "outputId": "ad7afae9-1305-4be3-baf6-0acdde7cf844"
      },
      "source": [
        "std=pd.read_csv(\"students_placement_data (1).csv\")\n",
        "std"
      ],
      "execution_count": 6,
      "outputs": [
        {
          "output_type": "execute_result",
          "data": {
            "text/html": [
              "<div>\n",
              "<style scoped>\n",
              "    .dataframe tbody tr th:only-of-type {\n",
              "        vertical-align: middle;\n",
              "    }\n",
              "\n",
              "    .dataframe tbody tr th {\n",
              "        vertical-align: top;\n",
              "    }\n",
              "\n",
              "    .dataframe thead th {\n",
              "        text-align: right;\n",
              "    }\n",
              "</style>\n",
              "<table border=\"1\" class=\"dataframe\">\n",
              "  <thead>\n",
              "    <tr style=\"text-align: right;\">\n",
              "      <th></th>\n",
              "      <th>Roll No</th>\n",
              "      <th>Gender</th>\n",
              "      <th>Section</th>\n",
              "      <th>SSC Percentage</th>\n",
              "      <th>inter_Diploma_percentage</th>\n",
              "      <th>B.Tech_percentage</th>\n",
              "      <th>Backlogs</th>\n",
              "      <th>registered_for_ Placement_Training</th>\n",
              "      <th>placement status</th>\n",
              "    </tr>\n",
              "  </thead>\n",
              "  <tbody>\n",
              "    <tr>\n",
              "      <th>0</th>\n",
              "      <td>1</td>\n",
              "      <td>M</td>\n",
              "      <td>A</td>\n",
              "      <td>87.3</td>\n",
              "      <td>65.30</td>\n",
              "      <td>40.00</td>\n",
              "      <td>18</td>\n",
              "      <td>NO</td>\n",
              "      <td>Not placed</td>\n",
              "    </tr>\n",
              "    <tr>\n",
              "      <th>1</th>\n",
              "      <td>2</td>\n",
              "      <td>F</td>\n",
              "      <td>A</td>\n",
              "      <td>89.0</td>\n",
              "      <td>92.40</td>\n",
              "      <td>71.45</td>\n",
              "      <td>0</td>\n",
              "      <td>yes</td>\n",
              "      <td>Placed</td>\n",
              "    </tr>\n",
              "    <tr>\n",
              "      <th>2</th>\n",
              "      <td>3</td>\n",
              "      <td>F</td>\n",
              "      <td>A</td>\n",
              "      <td>67.0</td>\n",
              "      <td>68.00</td>\n",
              "      <td>45.26</td>\n",
              "      <td>13</td>\n",
              "      <td>yes</td>\n",
              "      <td>Not placed</td>\n",
              "    </tr>\n",
              "    <tr>\n",
              "      <th>3</th>\n",
              "      <td>4</td>\n",
              "      <td>M</td>\n",
              "      <td>A</td>\n",
              "      <td>71.0</td>\n",
              "      <td>70.40</td>\n",
              "      <td>36.47</td>\n",
              "      <td>17</td>\n",
              "      <td>yes</td>\n",
              "      <td>Not placed</td>\n",
              "    </tr>\n",
              "    <tr>\n",
              "      <th>4</th>\n",
              "      <td>5</td>\n",
              "      <td>M</td>\n",
              "      <td>A</td>\n",
              "      <td>67.0</td>\n",
              "      <td>65.50</td>\n",
              "      <td>42.52</td>\n",
              "      <td>17</td>\n",
              "      <td>yes</td>\n",
              "      <td>Not placed</td>\n",
              "    </tr>\n",
              "    <tr>\n",
              "      <th>...</th>\n",
              "      <td>...</td>\n",
              "      <td>...</td>\n",
              "      <td>...</td>\n",
              "      <td>...</td>\n",
              "      <td>...</td>\n",
              "      <td>...</td>\n",
              "      <td>...</td>\n",
              "      <td>...</td>\n",
              "      <td>...</td>\n",
              "    </tr>\n",
              "    <tr>\n",
              "      <th>112</th>\n",
              "      <td>113</td>\n",
              "      <td>M</td>\n",
              "      <td>B</td>\n",
              "      <td>81.1</td>\n",
              "      <td>78.60</td>\n",
              "      <td>35.84</td>\n",
              "      <td>16</td>\n",
              "      <td>NO</td>\n",
              "      <td>Not placed</td>\n",
              "    </tr>\n",
              "    <tr>\n",
              "      <th>113</th>\n",
              "      <td>114</td>\n",
              "      <td>M</td>\n",
              "      <td>B</td>\n",
              "      <td>81.3</td>\n",
              "      <td>85.12</td>\n",
              "      <td>68.50</td>\n",
              "      <td>0</td>\n",
              "      <td>NO</td>\n",
              "      <td>Not placed</td>\n",
              "    </tr>\n",
              "    <tr>\n",
              "      <th>114</th>\n",
              "      <td>115</td>\n",
              "      <td>M</td>\n",
              "      <td>B</td>\n",
              "      <td>83.5</td>\n",
              "      <td>89.90</td>\n",
              "      <td>76.30</td>\n",
              "      <td>0</td>\n",
              "      <td>NO</td>\n",
              "      <td>Not placed</td>\n",
              "    </tr>\n",
              "    <tr>\n",
              "      <th>115</th>\n",
              "      <td>116</td>\n",
              "      <td>M</td>\n",
              "      <td>B</td>\n",
              "      <td>85.5</td>\n",
              "      <td>90.63</td>\n",
              "      <td>74.50</td>\n",
              "      <td>0</td>\n",
              "      <td>NO</td>\n",
              "      <td>Not placed</td>\n",
              "    </tr>\n",
              "    <tr>\n",
              "      <th>116</th>\n",
              "      <td>117</td>\n",
              "      <td>M</td>\n",
              "      <td>B</td>\n",
              "      <td>80.0</td>\n",
              "      <td>83.33</td>\n",
              "      <td>65.53</td>\n",
              "      <td>0</td>\n",
              "      <td>NO</td>\n",
              "      <td>Not placed</td>\n",
              "    </tr>\n",
              "  </tbody>\n",
              "</table>\n",
              "<p>117 rows × 9 columns</p>\n",
              "</div>"
            ],
            "text/plain": [
              "     Roll No Gender  ... registered_for_ Placement_Training  placement status\n",
              "0          1      M  ...                                 NO        Not placed\n",
              "1          2      F  ...                                yes            Placed\n",
              "2          3      F  ...                                yes        Not placed\n",
              "3          4      M  ...                                yes        Not placed\n",
              "4          5      M  ...                                yes        Not placed\n",
              "..       ...    ...  ...                                ...               ...\n",
              "112      113      M  ...                                 NO        Not placed\n",
              "113      114      M  ...                                 NO        Not placed\n",
              "114      115      M  ...                                 NO        Not placed\n",
              "115      116      M  ...                                 NO        Not placed\n",
              "116      117      M  ...                                 NO        Not placed\n",
              "\n",
              "[117 rows x 9 columns]"
            ]
          },
          "metadata": {
            "tags": []
          },
          "execution_count": 6
        }
      ]
    },
    {
      "cell_type": "code",
      "metadata": {
        "id": "g9fX1jT6pNAf",
        "colab_type": "code",
        "colab": {
          "base_uri": "https://localhost:8080/",
          "height": 241
        },
        "outputId": "adeef8ee-2ddf-4e88-e128-c2311f08f89c"
      },
      "source": [
        "std.head()"
      ],
      "execution_count": 7,
      "outputs": [
        {
          "output_type": "execute_result",
          "data": {
            "text/html": [
              "<div>\n",
              "<style scoped>\n",
              "    .dataframe tbody tr th:only-of-type {\n",
              "        vertical-align: middle;\n",
              "    }\n",
              "\n",
              "    .dataframe tbody tr th {\n",
              "        vertical-align: top;\n",
              "    }\n",
              "\n",
              "    .dataframe thead th {\n",
              "        text-align: right;\n",
              "    }\n",
              "</style>\n",
              "<table border=\"1\" class=\"dataframe\">\n",
              "  <thead>\n",
              "    <tr style=\"text-align: right;\">\n",
              "      <th></th>\n",
              "      <th>Roll No</th>\n",
              "      <th>Gender</th>\n",
              "      <th>Section</th>\n",
              "      <th>SSC Percentage</th>\n",
              "      <th>inter_Diploma_percentage</th>\n",
              "      <th>B.Tech_percentage</th>\n",
              "      <th>Backlogs</th>\n",
              "      <th>registered_for_ Placement_Training</th>\n",
              "      <th>placement status</th>\n",
              "    </tr>\n",
              "  </thead>\n",
              "  <tbody>\n",
              "    <tr>\n",
              "      <th>0</th>\n",
              "      <td>1</td>\n",
              "      <td>M</td>\n",
              "      <td>A</td>\n",
              "      <td>87.3</td>\n",
              "      <td>65.3</td>\n",
              "      <td>40.00</td>\n",
              "      <td>18</td>\n",
              "      <td>NO</td>\n",
              "      <td>Not placed</td>\n",
              "    </tr>\n",
              "    <tr>\n",
              "      <th>1</th>\n",
              "      <td>2</td>\n",
              "      <td>F</td>\n",
              "      <td>A</td>\n",
              "      <td>89.0</td>\n",
              "      <td>92.4</td>\n",
              "      <td>71.45</td>\n",
              "      <td>0</td>\n",
              "      <td>yes</td>\n",
              "      <td>Placed</td>\n",
              "    </tr>\n",
              "    <tr>\n",
              "      <th>2</th>\n",
              "      <td>3</td>\n",
              "      <td>F</td>\n",
              "      <td>A</td>\n",
              "      <td>67.0</td>\n",
              "      <td>68.0</td>\n",
              "      <td>45.26</td>\n",
              "      <td>13</td>\n",
              "      <td>yes</td>\n",
              "      <td>Not placed</td>\n",
              "    </tr>\n",
              "    <tr>\n",
              "      <th>3</th>\n",
              "      <td>4</td>\n",
              "      <td>M</td>\n",
              "      <td>A</td>\n",
              "      <td>71.0</td>\n",
              "      <td>70.4</td>\n",
              "      <td>36.47</td>\n",
              "      <td>17</td>\n",
              "      <td>yes</td>\n",
              "      <td>Not placed</td>\n",
              "    </tr>\n",
              "    <tr>\n",
              "      <th>4</th>\n",
              "      <td>5</td>\n",
              "      <td>M</td>\n",
              "      <td>A</td>\n",
              "      <td>67.0</td>\n",
              "      <td>65.5</td>\n",
              "      <td>42.52</td>\n",
              "      <td>17</td>\n",
              "      <td>yes</td>\n",
              "      <td>Not placed</td>\n",
              "    </tr>\n",
              "  </tbody>\n",
              "</table>\n",
              "</div>"
            ],
            "text/plain": [
              "   Roll No Gender  ... registered_for_ Placement_Training  placement status\n",
              "0        1      M  ...                                 NO        Not placed\n",
              "1        2      F  ...                                yes            Placed\n",
              "2        3      F  ...                                yes        Not placed\n",
              "3        4      M  ...                                yes        Not placed\n",
              "4        5      M  ...                                yes        Not placed\n",
              "\n",
              "[5 rows x 9 columns]"
            ]
          },
          "metadata": {
            "tags": []
          },
          "execution_count": 7
        }
      ]
    },
    {
      "cell_type": "code",
      "metadata": {
        "id": "3IRdeNbTylCO",
        "colab_type": "code",
        "colab": {
          "base_uri": "https://localhost:8080/",
          "height": 85
        },
        "outputId": "2f65550b-2709-4bfe-ecd1-ded5574cfb51"
      },
      "source": [
        "std.columns"
      ],
      "execution_count": 14,
      "outputs": [
        {
          "output_type": "execute_result",
          "data": {
            "text/plain": [
              "Index(['Roll No', 'Gender', 'Section', 'SSC Percentage',\n",
              "       'inter_Diploma_percentage', 'B.Tech_percentage', 'Backlogs',\n",
              "       'registered_for_ Placement_Training', 'placement status'],\n",
              "      dtype='object')"
            ]
          },
          "metadata": {
            "tags": []
          },
          "execution_count": 14
        }
      ]
    },
    {
      "cell_type": "code",
      "metadata": {
        "id": "3sp5bVs0zIYU",
        "colab_type": "code",
        "colab": {
          "base_uri": "https://localhost:8080/",
          "height": 425
        },
        "outputId": "92863aca-a28f-474d-fd2f-933ae9a514ca"
      },
      "source": [
        "X=std[\"SSC Percentage\"]\n",
        "Y=std[\"B.Tech_percentage\"]\n",
        "print(X)\n",
        "print(Y)"
      ],
      "execution_count": 17,
      "outputs": [
        {
          "output_type": "stream",
          "text": [
            "0      87.3\n",
            "1      89.0\n",
            "2      67.0\n",
            "3      71.0\n",
            "4      67.0\n",
            "       ... \n",
            "112    81.1\n",
            "113    81.3\n",
            "114    83.5\n",
            "115    85.5\n",
            "116    80.0\n",
            "Name: SSC Percentage, Length: 117, dtype: float64\n",
            "0      40.00\n",
            "1      71.45\n",
            "2      45.26\n",
            "3      36.47\n",
            "4      42.52\n",
            "       ...  \n",
            "112    35.84\n",
            "113    68.50\n",
            "114    76.30\n",
            "115    74.50\n",
            "116    65.53\n",
            "Name: B.Tech_percentage, Length: 117, dtype: float64\n"
          ],
          "name": "stdout"
        }
      ]
    },
    {
      "cell_type": "code",
      "metadata": {
        "id": "-tV2HxQQps77",
        "colab_type": "code",
        "colab": {}
      },
      "source": [
        "X_train, X_test, Y_train, Y_test = train_test_split(X, Y, test_size=0.2)"
      ],
      "execution_count": 0,
      "outputs": []
    },
    {
      "cell_type": "code",
      "metadata": {
        "id": "Vre3N25YydCO",
        "colab_type": "code",
        "colab": {}
      },
      "source": [
        "print(std.intercept_)"
      ],
      "execution_count": 0,
      "outputs": []
    },
    {
      "cell_type": "code",
      "metadata": {
        "id": "BCUY-ESe0SYq",
        "colab_type": "code",
        "colab": {}
      },
      "source": [
        "std.boxplot(column)"
      ],
      "execution_count": 0,
      "outputs": []
    },
    {
      "cell_type": "code",
      "metadata": {
        "id": "5RZHkMxj4_Pn",
        "colab_type": "code",
        "colab": {
          "base_uri": "https://localhost:8080/",
          "height": 456
        },
        "outputId": "8aa4e04a-eee9-4b6a-ec90-4af29b063f3a"
      },
      "source": [
        "std=pd.read_csv(\"students_placement_data (1).csv\")\n",
        "std"
      ],
      "execution_count": 24,
      "outputs": [
        {
          "output_type": "execute_result",
          "data": {
            "text/html": [
              "<div>\n",
              "<style scoped>\n",
              "    .dataframe tbody tr th:only-of-type {\n",
              "        vertical-align: middle;\n",
              "    }\n",
              "\n",
              "    .dataframe tbody tr th {\n",
              "        vertical-align: top;\n",
              "    }\n",
              "\n",
              "    .dataframe thead th {\n",
              "        text-align: right;\n",
              "    }\n",
              "</style>\n",
              "<table border=\"1\" class=\"dataframe\">\n",
              "  <thead>\n",
              "    <tr style=\"text-align: right;\">\n",
              "      <th></th>\n",
              "      <th>Roll No</th>\n",
              "      <th>Gender</th>\n",
              "      <th>Section</th>\n",
              "      <th>SSC Percentage</th>\n",
              "      <th>inter_Diploma_percentage</th>\n",
              "      <th>B.Tech_percentage</th>\n",
              "      <th>Backlogs</th>\n",
              "      <th>registered_for_ Placement_Training</th>\n",
              "      <th>placement status</th>\n",
              "    </tr>\n",
              "  </thead>\n",
              "  <tbody>\n",
              "    <tr>\n",
              "      <th>0</th>\n",
              "      <td>1</td>\n",
              "      <td>M</td>\n",
              "      <td>A</td>\n",
              "      <td>87.3</td>\n",
              "      <td>65.30</td>\n",
              "      <td>40.00</td>\n",
              "      <td>18</td>\n",
              "      <td>NO</td>\n",
              "      <td>Not placed</td>\n",
              "    </tr>\n",
              "    <tr>\n",
              "      <th>1</th>\n",
              "      <td>2</td>\n",
              "      <td>F</td>\n",
              "      <td>A</td>\n",
              "      <td>89.0</td>\n",
              "      <td>92.40</td>\n",
              "      <td>71.45</td>\n",
              "      <td>0</td>\n",
              "      <td>yes</td>\n",
              "      <td>Placed</td>\n",
              "    </tr>\n",
              "    <tr>\n",
              "      <th>2</th>\n",
              "      <td>3</td>\n",
              "      <td>F</td>\n",
              "      <td>A</td>\n",
              "      <td>67.0</td>\n",
              "      <td>68.00</td>\n",
              "      <td>45.26</td>\n",
              "      <td>13</td>\n",
              "      <td>yes</td>\n",
              "      <td>Not placed</td>\n",
              "    </tr>\n",
              "    <tr>\n",
              "      <th>3</th>\n",
              "      <td>4</td>\n",
              "      <td>M</td>\n",
              "      <td>A</td>\n",
              "      <td>71.0</td>\n",
              "      <td>70.40</td>\n",
              "      <td>36.47</td>\n",
              "      <td>17</td>\n",
              "      <td>yes</td>\n",
              "      <td>Not placed</td>\n",
              "    </tr>\n",
              "    <tr>\n",
              "      <th>4</th>\n",
              "      <td>5</td>\n",
              "      <td>M</td>\n",
              "      <td>A</td>\n",
              "      <td>67.0</td>\n",
              "      <td>65.50</td>\n",
              "      <td>42.52</td>\n",
              "      <td>17</td>\n",
              "      <td>yes</td>\n",
              "      <td>Not placed</td>\n",
              "    </tr>\n",
              "    <tr>\n",
              "      <th>...</th>\n",
              "      <td>...</td>\n",
              "      <td>...</td>\n",
              "      <td>...</td>\n",
              "      <td>...</td>\n",
              "      <td>...</td>\n",
              "      <td>...</td>\n",
              "      <td>...</td>\n",
              "      <td>...</td>\n",
              "      <td>...</td>\n",
              "    </tr>\n",
              "    <tr>\n",
              "      <th>112</th>\n",
              "      <td>113</td>\n",
              "      <td>M</td>\n",
              "      <td>B</td>\n",
              "      <td>81.1</td>\n",
              "      <td>78.60</td>\n",
              "      <td>35.84</td>\n",
              "      <td>16</td>\n",
              "      <td>NO</td>\n",
              "      <td>Not placed</td>\n",
              "    </tr>\n",
              "    <tr>\n",
              "      <th>113</th>\n",
              "      <td>114</td>\n",
              "      <td>M</td>\n",
              "      <td>B</td>\n",
              "      <td>81.3</td>\n",
              "      <td>85.12</td>\n",
              "      <td>68.50</td>\n",
              "      <td>0</td>\n",
              "      <td>NO</td>\n",
              "      <td>Not placed</td>\n",
              "    </tr>\n",
              "    <tr>\n",
              "      <th>114</th>\n",
              "      <td>115</td>\n",
              "      <td>M</td>\n",
              "      <td>B</td>\n",
              "      <td>83.5</td>\n",
              "      <td>89.90</td>\n",
              "      <td>76.30</td>\n",
              "      <td>0</td>\n",
              "      <td>NO</td>\n",
              "      <td>Not placed</td>\n",
              "    </tr>\n",
              "    <tr>\n",
              "      <th>115</th>\n",
              "      <td>116</td>\n",
              "      <td>M</td>\n",
              "      <td>B</td>\n",
              "      <td>85.5</td>\n",
              "      <td>90.63</td>\n",
              "      <td>74.50</td>\n",
              "      <td>0</td>\n",
              "      <td>NO</td>\n",
              "      <td>Not placed</td>\n",
              "    </tr>\n",
              "    <tr>\n",
              "      <th>116</th>\n",
              "      <td>117</td>\n",
              "      <td>M</td>\n",
              "      <td>B</td>\n",
              "      <td>80.0</td>\n",
              "      <td>83.33</td>\n",
              "      <td>65.53</td>\n",
              "      <td>0</td>\n",
              "      <td>NO</td>\n",
              "      <td>Not placed</td>\n",
              "    </tr>\n",
              "  </tbody>\n",
              "</table>\n",
              "<p>117 rows × 9 columns</p>\n",
              "</div>"
            ],
            "text/plain": [
              "     Roll No Gender  ... registered_for_ Placement_Training  placement status\n",
              "0          1      M  ...                                 NO        Not placed\n",
              "1          2      F  ...                                yes            Placed\n",
              "2          3      F  ...                                yes        Not placed\n",
              "3          4      M  ...                                yes        Not placed\n",
              "4          5      M  ...                                yes        Not placed\n",
              "..       ...    ...  ...                                ...               ...\n",
              "112      113      M  ...                                 NO        Not placed\n",
              "113      114      M  ...                                 NO        Not placed\n",
              "114      115      M  ...                                 NO        Not placed\n",
              "115      116      M  ...                                 NO        Not placed\n",
              "116      117      M  ...                                 NO        Not placed\n",
              "\n",
              "[117 rows x 9 columns]"
            ]
          },
          "metadata": {
            "tags": []
          },
          "execution_count": 24
        }
      ]
    },
    {
      "cell_type": "code",
      "metadata": {
        "id": "nq2QOn_-5RYZ",
        "colab_type": "code",
        "colab": {
          "base_uri": "https://localhost:8080/",
          "height": 275
        },
        "outputId": "f2a94a4c-30b4-444a-b479-7657e0f10f7e"
      },
      "source": [
        "std.describe"
      ],
      "execution_count": 25,
      "outputs": [
        {
          "output_type": "execute_result",
          "data": {
            "text/plain": [
              "<bound method NDFrame.describe of      Roll No Gender  ... registered_for_ Placement_Training  placement status\n",
              "0          1      M  ...                                 NO        Not placed\n",
              "1          2      F  ...                                yes            Placed\n",
              "2          3      F  ...                                yes        Not placed\n",
              "3          4      M  ...                                yes        Not placed\n",
              "4          5      M  ...                                yes        Not placed\n",
              "..       ...    ...  ...                                ...               ...\n",
              "112      113      M  ...                                 NO        Not placed\n",
              "113      114      M  ...                                 NO        Not placed\n",
              "114      115      M  ...                                 NO        Not placed\n",
              "115      116      M  ...                                 NO        Not placed\n",
              "116      117      M  ...                                 NO        Not placed\n",
              "\n",
              "[117 rows x 9 columns]>"
            ]
          },
          "metadata": {
            "tags": []
          },
          "execution_count": 25
        }
      ]
    },
    {
      "cell_type": "code",
      "metadata": {
        "id": "xyT1J1-G5XiG",
        "colab_type": "code",
        "colab": {
          "base_uri": "https://localhost:8080/",
          "height": 85
        },
        "outputId": "ab7bfa1c-8ab9-4922-8265-f21ded5a7d86"
      },
      "source": [
        "std.columns"
      ],
      "execution_count": 26,
      "outputs": [
        {
          "output_type": "execute_result",
          "data": {
            "text/plain": [
              "Index(['Roll No', 'Gender', 'Section', 'SSC Percentage',\n",
              "       'inter_Diploma_percentage', 'B.Tech_percentage', 'Backlogs',\n",
              "       'registered_for_ Placement_Training', 'placement status'],\n",
              "      dtype='object')"
            ]
          },
          "metadata": {
            "tags": []
          },
          "execution_count": 26
        }
      ]
    },
    {
      "cell_type": "code",
      "metadata": {
        "id": "_pjop4th5fxd",
        "colab_type": "code",
        "colab": {
          "base_uri": "https://localhost:8080/",
          "height": 1000
        },
        "outputId": "f5e001aa-9881-4dbe-a7ee-96e46a127655"
      },
      "source": [
        "x=std[\"SSC Percentage\"].values.reshape(-1,1)\n",
        "y=std[\"B.Tech_percentage\"].values.reshape(-1,1)\n",
        "print(x)\n",
        "print(y)"
      ],
      "execution_count": 28,
      "outputs": [
        {
          "output_type": "stream",
          "text": [
            "[[87.3 ]\n",
            " [89.  ]\n",
            " [67.  ]\n",
            " [71.  ]\n",
            " [67.  ]\n",
            " [81.26]\n",
            " [71.  ]\n",
            " [84.83]\n",
            " [85.  ]\n",
            " [79.9 ]\n",
            " [82.33]\n",
            " [91.  ]\n",
            " [81.33]\n",
            " [87.1 ]\n",
            " [63.1 ]\n",
            " [85.83]\n",
            " [87.  ]\n",
            " [93.66]\n",
            " [80.66]\n",
            " [87.83]\n",
            " [83.83]\n",
            " [77.5 ]\n",
            " [80.3 ]\n",
            " [90.5 ]\n",
            " [86.16]\n",
            " [74.5 ]\n",
            " [87.1 ]\n",
            " [55.66]\n",
            " [64.3 ]\n",
            " [72.  ]\n",
            " [87.33]\n",
            " [72.17]\n",
            " [79.  ]\n",
            " [76.  ]\n",
            " [86.6 ]\n",
            " [87.33]\n",
            " [82.  ]\n",
            " [91.  ]\n",
            " [74.  ]\n",
            " [83.5 ]\n",
            " [88.16]\n",
            " [75.33]\n",
            " [81.1 ]\n",
            " [86.  ]\n",
            " [82.3 ]\n",
            " [87.5 ]\n",
            " [83.5 ]\n",
            " [77.16]\n",
            " [66.16]\n",
            " [85.33]\n",
            " [87.42]\n",
            " [79.  ]\n",
            " [82.9 ]\n",
            " [72.  ]\n",
            " [85.5 ]\n",
            " [87.33]\n",
            " [64.  ]\n",
            " [72.5 ]\n",
            " [90.3 ]\n",
            " [90.66]\n",
            " [81.83]\n",
            " [85.33]\n",
            " [77.33]\n",
            " [79.6 ]\n",
            " [86.  ]\n",
            " [90.  ]\n",
            " [83.66]\n",
            " [86.66]\n",
            " [85.  ]\n",
            " [47.8 ]\n",
            " [90.33]\n",
            " [79.  ]\n",
            " [81.83]\n",
            " [88.16]\n",
            " [75.5 ]\n",
            " [78.6 ]\n",
            " [78.  ]\n",
            " [74.16]\n",
            " [89.  ]\n",
            " [70.  ]\n",
            " [86.  ]\n",
            " [84.84]\n",
            " [83.66]\n",
            " [89.  ]\n",
            " [74.  ]\n",
            " [87.33]\n",
            " [50.66]\n",
            " [82.  ]\n",
            " [65.3 ]\n",
            " [83.  ]\n",
            " [60.83]\n",
            " [83.16]\n",
            " [88.1 ]\n",
            " [72.  ]\n",
            " [89.33]\n",
            " [79.33]\n",
            " [92.33]\n",
            " [76.83]\n",
            " [88.3 ]\n",
            " [82.83]\n",
            " [79.83]\n",
            " [82.66]\n",
            " [92.66]\n",
            " [88.  ]\n",
            " [68.16]\n",
            " [84.1 ]\n",
            " [74.5 ]\n",
            " [83.  ]\n",
            " [62.  ]\n",
            " [81.  ]\n",
            " [82.3 ]\n",
            " [63.66]\n",
            " [81.1 ]\n",
            " [81.3 ]\n",
            " [83.5 ]\n",
            " [85.5 ]\n",
            " [80.  ]]\n",
            "[[40.  ]\n",
            " [71.45]\n",
            " [45.26]\n",
            " [36.47]\n",
            " [42.52]\n",
            " [62.2 ]\n",
            " [33.77]\n",
            " [61.02]\n",
            " [53.  ]\n",
            " [51.  ]\n",
            " [71.49]\n",
            " [49.67]\n",
            " [54.74]\n",
            " [74.96]\n",
            " [50.55]\n",
            " [75.96]\n",
            " [70.01]\n",
            " [85.39]\n",
            " [71.65]\n",
            " [74.34]\n",
            " [76.9 ]\n",
            " [73.01]\n",
            " [68.3 ]\n",
            " [70.3 ]\n",
            " [54.18]\n",
            " [55.82]\n",
            " [61.  ]\n",
            " [38.  ]\n",
            " [64.36]\n",
            " [69.6 ]\n",
            " [74.25]\n",
            " [58.  ]\n",
            " [71.94]\n",
            " [42.  ]\n",
            " [65.7 ]\n",
            " [68.7 ]\n",
            " [75.42]\n",
            " [72.68]\n",
            " [51.  ]\n",
            " [67.5 ]\n",
            " [72.74]\n",
            " [58.67]\n",
            " [45.45]\n",
            " [70.85]\n",
            " [69.48]\n",
            " [72.57]\n",
            " [59.53]\n",
            " [67.06]\n",
            " [52.09]\n",
            " [77.5 ]\n",
            " [78.  ]\n",
            " [55.49]\n",
            " [52.  ]\n",
            " [67.21]\n",
            " [60.35]\n",
            " [70.85]\n",
            " [31.2 ]\n",
            " [52.31]\n",
            " [77.95]\n",
            " [81.1 ]\n",
            " [60.72]\n",
            " [74.3 ]\n",
            " [52.  ]\n",
            " [49.68]\n",
            " [78.6 ]\n",
            " [72.4 ]\n",
            " [72.47]\n",
            " [75.13]\n",
            " [52.56]\n",
            " [44.73]\n",
            " [80.47]\n",
            " [59.  ]\n",
            " [68.9 ]\n",
            " [63.41]\n",
            " [73.13]\n",
            " [56.88]\n",
            " [51.06]\n",
            " [73.09]\n",
            " [65.6 ]\n",
            " [57.75]\n",
            " [62.16]\n",
            " [70.09]\n",
            " [57.8 ]\n",
            " [63.  ]\n",
            " [76.02]\n",
            " [69.48]\n",
            " [60.53]\n",
            " [42.  ]\n",
            " [62.99]\n",
            " [62.97]\n",
            " [54.  ]\n",
            " [68.7 ]\n",
            " [61.68]\n",
            " [51.  ]\n",
            " [69.62]\n",
            " [62.98]\n",
            " [88.1 ]\n",
            " [72.73]\n",
            " [78.6 ]\n",
            " [72.57]\n",
            " [65.46]\n",
            " [83.38]\n",
            " [76.35]\n",
            " [53.26]\n",
            " [64.63]\n",
            " [57.3 ]\n",
            " [56.89]\n",
            " [58.  ]\n",
            " [55.7 ]\n",
            " [42.17]\n",
            " [54.16]\n",
            " [61.  ]\n",
            " [35.84]\n",
            " [68.5 ]\n",
            " [76.3 ]\n",
            " [74.5 ]\n",
            " [65.53]]\n"
          ],
          "name": "stdout"
        }
      ]
    },
    {
      "cell_type": "code",
      "metadata": {
        "id": "S1spYM_k5yv1",
        "colab_type": "code",
        "colab": {}
      },
      "source": [
        "X_train,X_test,Y_train,Y_test=train_test_split(x,y,test_size=0.2)"
      ],
      "execution_count": 0,
      "outputs": []
    },
    {
      "cell_type": "code",
      "metadata": {
        "id": "DBArJZB667Rc",
        "colab_type": "code",
        "colab": {
          "base_uri": "https://localhost:8080/",
          "height": 34
        },
        "outputId": "a1c7f347-b7fb-4479-d2cf-4d5609a85d16"
      },
      "source": [
        "mod=LinearRegression()\n",
        "mod.fit(X_train,Y_train)"
      ],
      "execution_count": 30,
      "outputs": [
        {
          "output_type": "execute_result",
          "data": {
            "text/plain": [
              "LinearRegression(copy_X=True, fit_intercept=True, n_jobs=None, normalize=False)"
            ]
          },
          "metadata": {
            "tags": []
          },
          "execution_count": 30
        }
      ]
    },
    {
      "cell_type": "code",
      "metadata": {
        "id": "HYDyvuN-7aWy",
        "colab_type": "code",
        "colab": {
          "base_uri": "https://localhost:8080/",
          "height": 34
        },
        "outputId": "710a4764-6859-41f7-bdfa-911cb598cf5b"
      },
      "source": [
        "mod.intercept_"
      ],
      "execution_count": 31,
      "outputs": [
        {
          "output_type": "execute_result",
          "data": {
            "text/plain": [
              "array([-1.16950092])"
            ]
          },
          "metadata": {
            "tags": []
          },
          "execution_count": 31
        }
      ]
    },
    {
      "cell_type": "code",
      "metadata": {
        "id": "9W2tpcwO7j-p",
        "colab_type": "code",
        "colab": {
          "base_uri": "https://localhost:8080/",
          "height": 34
        },
        "outputId": "049638a4-0522-4823-d647-f4855772d124"
      },
      "source": [
        "mod.coef_"
      ],
      "execution_count": 32,
      "outputs": [
        {
          "output_type": "execute_result",
          "data": {
            "text/plain": [
              "array([[0.80045848]])"
            ]
          },
          "metadata": {
            "tags": []
          },
          "execution_count": 32
        }
      ]
    },
    {
      "cell_type": "code",
      "metadata": {
        "id": "Sn6hbyEH7pGB",
        "colab_type": "code",
        "colab": {
          "base_uri": "https://localhost:8080/",
          "height": 425
        },
        "outputId": "7c003b8d-2ca3-4a39-d1f6-c2a0ace8ba68"
      },
      "source": [
        "prd=mod.predict(X_test)\n",
        "prd"
      ],
      "execution_count": 33,
      "outputs": [
        {
          "output_type": "execute_result",
          "data": {
            "text/plain": [
              "array([[67.66992814],\n",
              "       [64.73224553],\n",
              "       [68.87061586],\n",
              "       [68.73453792],\n",
              "       [59.12903619],\n",
              "       [39.38172555],\n",
              "       [37.0924143 ],\n",
              "       [63.7476816 ],\n",
              "       [69.35089094],\n",
              "       [58.46465565],\n",
              "       [60.86603108],\n",
              "       [64.46809423],\n",
              "       [71.67222053],\n",
              "       [66.86946966],\n",
              "       [69.2708451 ],\n",
              "       [63.66763575],\n",
              "       [65.66878195],\n",
              "       [62.3308701 ],\n",
              "       [70.07130357],\n",
              "       [62.0667188 ],\n",
              "       [51.78883195],\n",
              "       [63.7476816 ],\n",
              "       [70.07130357],\n",
              "       [67.13362096]])"
            ]
          },
          "metadata": {
            "tags": []
          },
          "execution_count": 33
        }
      ]
    },
    {
      "cell_type": "code",
      "metadata": {
        "id": "i6e7cR8N79jw",
        "colab_type": "code",
        "colab": {
          "base_uri": "https://localhost:8080/",
          "height": 793
        },
        "outputId": "d244d346-3cc8-4ba6-d72d-cf3855e1f047"
      },
      "source": [
        "actual=pd.DataFrame({\"a\":prd.flatten(),\"b\":Y_test.flatten()})\n",
        "actual"
      ],
      "execution_count": 34,
      "outputs": [
        {
          "output_type": "execute_result",
          "data": {
            "text/html": [
              "<div>\n",
              "<style scoped>\n",
              "    .dataframe tbody tr th:only-of-type {\n",
              "        vertical-align: middle;\n",
              "    }\n",
              "\n",
              "    .dataframe tbody tr th {\n",
              "        vertical-align: top;\n",
              "    }\n",
              "\n",
              "    .dataframe thead th {\n",
              "        text-align: right;\n",
              "    }\n",
              "</style>\n",
              "<table border=\"1\" class=\"dataframe\">\n",
              "  <thead>\n",
              "    <tr style=\"text-align: right;\">\n",
              "      <th></th>\n",
              "      <th>a</th>\n",
              "      <th>b</th>\n",
              "    </tr>\n",
              "  </thead>\n",
              "  <tbody>\n",
              "    <tr>\n",
              "      <th>0</th>\n",
              "      <td>67.669928</td>\n",
              "      <td>78.60</td>\n",
              "    </tr>\n",
              "    <tr>\n",
              "      <th>1</th>\n",
              "      <td>64.732246</td>\n",
              "      <td>71.49</td>\n",
              "    </tr>\n",
              "    <tr>\n",
              "      <th>2</th>\n",
              "      <td>68.870616</td>\n",
              "      <td>72.57</td>\n",
              "    </tr>\n",
              "    <tr>\n",
              "      <th>3</th>\n",
              "      <td>68.734538</td>\n",
              "      <td>74.25</td>\n",
              "    </tr>\n",
              "    <tr>\n",
              "      <th>4</th>\n",
              "      <td>59.129036</td>\n",
              "      <td>58.67</td>\n",
              "    </tr>\n",
              "    <tr>\n",
              "      <th>5</th>\n",
              "      <td>39.381726</td>\n",
              "      <td>60.53</td>\n",
              "    </tr>\n",
              "    <tr>\n",
              "      <th>6</th>\n",
              "      <td>37.092414</td>\n",
              "      <td>44.73</td>\n",
              "    </tr>\n",
              "    <tr>\n",
              "      <th>7</th>\n",
              "      <td>63.747682</td>\n",
              "      <td>35.84</td>\n",
              "    </tr>\n",
              "    <tr>\n",
              "      <th>8</th>\n",
              "      <td>69.350891</td>\n",
              "      <td>61.68</td>\n",
              "    </tr>\n",
              "    <tr>\n",
              "      <th>9</th>\n",
              "      <td>58.464656</td>\n",
              "      <td>56.89</td>\n",
              "    </tr>\n",
              "    <tr>\n",
              "      <th>10</th>\n",
              "      <td>60.866031</td>\n",
              "      <td>73.01</td>\n",
              "    </tr>\n",
              "    <tr>\n",
              "      <th>11</th>\n",
              "      <td>64.468094</td>\n",
              "      <td>75.42</td>\n",
              "    </tr>\n",
              "    <tr>\n",
              "      <th>12</th>\n",
              "      <td>71.672221</td>\n",
              "      <td>72.68</td>\n",
              "    </tr>\n",
              "    <tr>\n",
              "      <th>13</th>\n",
              "      <td>66.869470</td>\n",
              "      <td>52.56</td>\n",
              "    </tr>\n",
              "    <tr>\n",
              "      <th>14</th>\n",
              "      <td>69.270845</td>\n",
              "      <td>53.26</td>\n",
              "    </tr>\n",
              "    <tr>\n",
              "      <th>15</th>\n",
              "      <td>63.667636</td>\n",
              "      <td>42.17</td>\n",
              "    </tr>\n",
              "    <tr>\n",
              "      <th>16</th>\n",
              "      <td>65.668782</td>\n",
              "      <td>76.30</td>\n",
              "    </tr>\n",
              "    <tr>\n",
              "      <th>17</th>\n",
              "      <td>62.330870</td>\n",
              "      <td>62.98</td>\n",
              "    </tr>\n",
              "    <tr>\n",
              "      <th>18</th>\n",
              "      <td>70.071304</td>\n",
              "      <td>71.45</td>\n",
              "    </tr>\n",
              "    <tr>\n",
              "      <th>19</th>\n",
              "      <td>62.066719</td>\n",
              "      <td>55.49</td>\n",
              "    </tr>\n",
              "    <tr>\n",
              "      <th>20</th>\n",
              "      <td>51.788832</td>\n",
              "      <td>52.09</td>\n",
              "    </tr>\n",
              "    <tr>\n",
              "      <th>21</th>\n",
              "      <td>63.747682</td>\n",
              "      <td>45.45</td>\n",
              "    </tr>\n",
              "    <tr>\n",
              "      <th>22</th>\n",
              "      <td>70.071304</td>\n",
              "      <td>63.00</td>\n",
              "    </tr>\n",
              "    <tr>\n",
              "      <th>23</th>\n",
              "      <td>67.133621</td>\n",
              "      <td>74.30</td>\n",
              "    </tr>\n",
              "  </tbody>\n",
              "</table>\n",
              "</div>"
            ],
            "text/plain": [
              "            a      b\n",
              "0   67.669928  78.60\n",
              "1   64.732246  71.49\n",
              "2   68.870616  72.57\n",
              "3   68.734538  74.25\n",
              "4   59.129036  58.67\n",
              "5   39.381726  60.53\n",
              "6   37.092414  44.73\n",
              "7   63.747682  35.84\n",
              "8   69.350891  61.68\n",
              "9   58.464656  56.89\n",
              "10  60.866031  73.01\n",
              "11  64.468094  75.42\n",
              "12  71.672221  72.68\n",
              "13  66.869470  52.56\n",
              "14  69.270845  53.26\n",
              "15  63.667636  42.17\n",
              "16  65.668782  76.30\n",
              "17  62.330870  62.98\n",
              "18  70.071304  71.45\n",
              "19  62.066719  55.49\n",
              "20  51.788832  52.09\n",
              "21  63.747682  45.45\n",
              "22  70.071304  63.00\n",
              "23  67.133621  74.30"
            ]
          },
          "metadata": {
            "tags": []
          },
          "execution_count": 34
        }
      ]
    },
    {
      "cell_type": "code",
      "metadata": {
        "id": "Q2ukHjpI8y52",
        "colab_type": "code",
        "colab": {
          "base_uri": "https://localhost:8080/",
          "height": 283
        },
        "outputId": "1a92997e-ca24-4256-a225-83968a7807d1"
      },
      "source": [
        "plt.scatter(X_test,Y_test,color=\"red\")\n",
        "plt.plot(X_test,prd)"
      ],
      "execution_count": 36,
      "outputs": [
        {
          "output_type": "execute_result",
          "data": {
            "text/plain": [
              "[<matplotlib.lines.Line2D at 0x7f87ebc798d0>]"
            ]
          },
          "metadata": {
            "tags": []
          },
          "execution_count": 36
        },
        {
          "output_type": "display_data",
          "data": {
            "image/png": "[encoded data removed]",
            "text/plain": [
              "<Figure size 432x288 with 1 Axes>"
            ]
          },
          "metadata": {
            "tags": []
          }
        }
      ]
    },
    {
      "cell_type": "code",
      "metadata": {
        "id": "YlgItjdM9aul",
        "colab_type": "code",
        "colab": {
          "base_uri": "https://localhost:8080/",
          "height": 34
        },
        "outputId": "043d033a-2759-4946-c5e8-d1d3277b3d2b"
      },
      "source": [
        "print(\"R2 error is\",metrics.r2_score(Y_test,prd))"
      ],
      "execution_count": 37,
      "outputs": [
        {
          "output_type": "stream",
          "text": [
            "R2 error is 0.04106179885303829\n"
          ],
          "name": "stdout"
        }
      ]
    },
    {
      "cell_type": "code",
      "metadata": {
        "id": "laC9_JVq-GxU",
        "colab_type": "code",
        "colab": {}
      },
      "source": [
        ""
      ],
      "execution_count": 0,
      "outputs": []
    }
  ]
}